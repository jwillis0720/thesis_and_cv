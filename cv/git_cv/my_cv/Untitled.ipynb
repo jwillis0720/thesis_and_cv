{
 "cells": [
  {
   "cell_type": "code",
   "execution_count": 88,
   "metadata": {},
   "outputs": [
    {
     "name": "stdout",
     "output_type": "stream",
     "text": [
      "Overwriting format_references.py\n"
     ]
    }
   ],
   "source": [
    "%%writefile format_references.py\n",
    "import pandas\n",
    "import sys\n",
    "df = pandas.read_excel('jordan/JordansReferences.xlsx')\n",
    "df = df.sort_values('Rank')\n",
    "df = df[df['Enabled'] == True]\n",
    "df = df.fillna(\"\")\n",
    "df['Number'] = df['Number'].astype(str).apply(lambda x: '('+x[:3]+') '+x[3:6]+'-'+x[6:10])\n",
    "print(\"\\section{References}\")\n",
    "for i in df[df.columns[2:]].iterrows():\n",
    "    print(\"\\cvreference\",end='')\n",
    "    for j in i[1]:\n",
    "        print(\"{{{}}}\".format(j),end='')\n",
    "    print(\"\\n\\\\vspace{0.2cm}\")"
   ]
  },
  {
   "cell_type": "code",
   "execution_count": 11,
   "metadata": {
    "ExecuteTime": {
     "end_time": "2019-10-18T17:29:59.603897Z",
     "start_time": "2019-10-18T17:29:59.600886Z"
    }
   },
   "outputs": [],
   "source": [
    "from math import factorial,log\n",
    "\n",
    "def permutations(n,r):\n",
    "    return factorial(n)/factorial(n-r)"
   ]
  },
  {
   "cell_type": "code",
   "execution_count": 49,
   "metadata": {
    "ExecuteTime": {
     "end_time": "2019-10-18T17:57:27.486034Z",
     "start_time": "2019-10-18T17:57:27.131175Z"
    },
    "code_folding": []
   },
   "outputs": [
    {
     "data": {
      "text/plain": [
       "[Text(0, 0.1, '$\\\\mathdefault{10^{-1}}$'),\n",
       " Text(0, 10000.0, '$\\\\mathdefault{10^{4}}$'),\n",
       " Text(0, 1000000000.0, '$\\\\mathdefault{10^{9}}$'),\n",
       " Text(0, 100000000000000.0, '$\\\\mathdefault{10^{14}}$'),\n",
       " Text(0, 1e+19, '$\\\\mathdefault{10^{19}}$'),\n",
       " Text(0, 1e+24, '$\\\\mathdefault{10^{24}}$'),\n",
       " Text(0, 1e+29, '$\\\\mathdefault{10^{29}}$'),\n",
       " Text(0, 1e+34, '$\\\\mathdefault{10^{34}}$'),\n",
       " Text(0, 1e+39, '$\\\\mathdefault{10^{39}}$'),\n",
       " Text(0, 1e+44, '$\\\\mathdefault{10^{44}}$'),\n",
       " Text(0, 1e+49, '$\\\\mathdefault{10^{49}}$'),\n",
       " Text(0, 1e+54, '$\\\\mathdefault{10^{54}}$')]"
      ]
     },
     "execution_count": 49,
     "metadata": {},
     "output_type": "execute_result"
    },
    {
     "data": {
      "image/png": "[encoded data removed]",
      "text/plain": [
       "<Figure size 576x288 with 1 Axes>"
      ]
     },
     "metadata": {
      "needs_background": "light"
     },
     "output_type": "display_data"
    }
   ],
   "source": [
    "%matplotlib inline\n",
    "import matplotlib.pyplot as plt\n",
    "x = []\n",
    "y = []\n",
    "for i in range(2,14):\n",
    "    x.append(i)\n",
    "    y.append(permutations(2800-1,i))\n",
    "\n",
    "fig = plt.figure(figsize=(8,4))\n",
    "ax = fig.add_subplot(1, 1, 1)\n",
    "\n",
    "ax.scatter(x,y)\n",
    "ax.plot(x,y,linestyle='-',color='green')\n",
    "ax.set_yscale('log')\n",
    "ax.set_ylabel('Minimal Theoretical Library Size')\n",
    "ax.set_xlabel('Number of Capsids In Shuffle')\n",
    "\n",
    "fig.canvas.draw()\n",
    "ax.set_yticklabels(ax.get_yticklabels(),size=14)\n",
    "\n"
   ]
  },
  {
   "cell_type": "code",
   "execution_count": null,
   "metadata": {},
   "outputs": [],
   "source": []
  }
 ],
 "metadata": {
  "kernelspec": {
   "display_name": "Python 3",
   "language": "python",
   "name": "python3"
  },
  "language_info": {
   "codemirror_mode": {
    "name": "ipython",
    "version": 3
   },
   "file_extension": ".py",
   "mimetype": "text/x-python",
   "name": "python",
   "nbconvert_exporter": "python",
   "pygments_lexer": "ipython3",
   "version": "3.7.3"
  },
  "toc": {
   "base_numbering": 1,
   "nav_menu": {},
   "number_sections": true,
   "sideBar": true,
   "skip_h1_title": false,
   "title_cell": "Table of Contents",
   "title_sidebar": "Contents",
   "toc_cell": false,
   "toc_position": {},
   "toc_section_display": true,
   "toc_window_display": false
  }
 },
 "nbformat": 4,
 "nbformat_minor": 2
}
