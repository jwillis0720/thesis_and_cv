{
 "cells": [
  {
   "cell_type": "code",
   "execution_count": 88,
   "metadata": {},
   "outputs": [
    {
     "name": "stdout",
     "output_type": "stream",
     "text": [
      "Overwriting format_references.py\n"
     ]
    }
   ],
   "source": [
    "%%writefile format_references.py\n",
    "import pandas\n",
    "import sys\n",
    "df = pandas.read_excel('jordan/JordansReferences.xlsx')\n",
    "df = df.sort_values('Rank')\n",
    "df = df[df['Enabled'] == True]\n",
    "df = df.fillna(\"\")\n",
    "df['Number'] = df['Number'].astype(str).apply(lambda x: '('+x[:3]+') '+x[3:6]+'-'+x[6:10])\n",
    "print(\"\\section{References}\")\n",
    "for i in df[df.columns[2:]].iterrows():\n",
    "    print(\"\\cvreference\",end='')\n",
    "    for j in i[1]:\n",
    "        print(\"{{{}}}\".format(j),end='')\n",
    "    print(\"\\n\\\\vspace{0.2cm}\")"
   ]
  },
  {
   "cell_type": "code",
   "execution_count": 87,
   "metadata": {},
   "outputs": [
    {
     "data": {
      "text/plain": [
       "1    (615) 343-8064\n",
       "2    (615) 936-5662\n",
       "6    (404) 639-3797\n",
       "7    (617) 651-8328\n",
       "8    (716) 323-0150\n",
       "9    (215) 898-6587\n",
       "5    (281) 668-5124\n",
       "3    (615) 322-6766\n",
       "4    (573) 882-8374\n",
       "Name: Number, dtype: object"
      ]
     },
     "execution_count": 87,
     "metadata": {},
     "output_type": "execute_result"
    }
   ],
   "source": []
  },
  {
   "cell_type": "code",
   "execution_count": null,
   "metadata": {},
   "outputs": [],
   "source": []
  }
 ],
 "metadata": {
  "kernelspec": {
   "display_name": "Python 3",
   "language": "python",
   "name": "python3"
  },
  "language_info": {
   "codemirror_mode": {
    "name": "ipython",
    "version": 3
   },
   "file_extension": ".py",
   "mimetype": "text/x-python",
   "name": "python",
   "nbconvert_exporter": "python",
   "pygments_lexer": "ipython3",
   "version": "3.6.5"
  }
 },
 "nbformat": 4,
 "nbformat_minor": 2
}
